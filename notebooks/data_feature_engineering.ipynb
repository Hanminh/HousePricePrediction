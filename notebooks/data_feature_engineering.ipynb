{
 "cells": [
  {
   "cell_type": "code",
   "execution_count": 1,
   "id": "fce2e407",
   "metadata": {},
   "outputs": [
    {
     "data": {
      "application/vnd.microsoft.datawrangler.viewer.v0+json": {
       "columns": [
        {
         "name": "index",
         "rawType": "int64",
         "type": "integer"
        },
        {
         "name": "Unnamed: 0",
         "rawType": "int64",
         "type": "integer"
        },
        {
         "name": "price",
         "rawType": "int64",
         "type": "integer"
        },
        {
         "name": "sqft",
         "rawType": "int64",
         "type": "integer"
        },
        {
         "name": "bedrooms",
         "rawType": "int64",
         "type": "integer"
        },
        {
         "name": "bathrooms",
         "rawType": "float64",
         "type": "float"
        },
        {
         "name": "location",
         "rawType": "object",
         "type": "string"
        },
        {
         "name": "year_built",
         "rawType": "int64",
         "type": "integer"
        },
        {
         "name": "condition",
         "rawType": "object",
         "type": "string"
        }
       ],
       "ref": "1cf2b784-2d0e-4a10-bb0e-07811a8c281c",
       "rows": [
        [
         "0",
         "0",
         "495000",
         "1527",
         "2",
         "1.5",
         "Suburb",
         "1956",
         "Good"
        ],
        [
         "1",
         "1",
         "752000",
         "2526",
         "3",
         "2.5",
         "Downtown",
         "1998",
         "Excellent"
        ],
        [
         "2",
         "2",
         "319000",
         "1622",
         "2",
         "1.5",
         "Rural",
         "1975",
         "Fair"
        ],
        [
         "3",
         "3",
         "1210000",
         "3102",
         "4",
         "3.0",
         "Waterfront",
         "2005",
         "Excellent"
        ],
        [
         "4",
         "4",
         "462000",
         "1835",
         "2",
         "2.0",
         "Urban",
         "1982",
         "Good"
        ]
       ],
       "shape": {
        "columns": 8,
        "rows": 5
       }
      },
      "text/html": [
       "<div>\n",
       "<style scoped>\n",
       "    .dataframe tbody tr th:only-of-type {\n",
       "        vertical-align: middle;\n",
       "    }\n",
       "\n",
       "    .dataframe tbody tr th {\n",
       "        vertical-align: top;\n",
       "    }\n",
       "\n",
       "    .dataframe thead th {\n",
       "        text-align: right;\n",
       "    }\n",
       "</style>\n",
       "<table border=\"1\" class=\"dataframe\">\n",
       "  <thead>\n",
       "    <tr style=\"text-align: right;\">\n",
       "      <th></th>\n",
       "      <th>Unnamed: 0</th>\n",
       "      <th>price</th>\n",
       "      <th>sqft</th>\n",
       "      <th>bedrooms</th>\n",
       "      <th>bathrooms</th>\n",
       "      <th>location</th>\n",
       "      <th>year_built</th>\n",
       "      <th>condition</th>\n",
       "    </tr>\n",
       "  </thead>\n",
       "  <tbody>\n",
       "    <tr>\n",
       "      <th>0</th>\n",
       "      <td>0</td>\n",
       "      <td>495000</td>\n",
       "      <td>1527</td>\n",
       "      <td>2</td>\n",
       "      <td>1.5</td>\n",
       "      <td>Suburb</td>\n",
       "      <td>1956</td>\n",
       "      <td>Good</td>\n",
       "    </tr>\n",
       "    <tr>\n",
       "      <th>1</th>\n",
       "      <td>1</td>\n",
       "      <td>752000</td>\n",
       "      <td>2526</td>\n",
       "      <td>3</td>\n",
       "      <td>2.5</td>\n",
       "      <td>Downtown</td>\n",
       "      <td>1998</td>\n",
       "      <td>Excellent</td>\n",
       "    </tr>\n",
       "    <tr>\n",
       "      <th>2</th>\n",
       "      <td>2</td>\n",
       "      <td>319000</td>\n",
       "      <td>1622</td>\n",
       "      <td>2</td>\n",
       "      <td>1.5</td>\n",
       "      <td>Rural</td>\n",
       "      <td>1975</td>\n",
       "      <td>Fair</td>\n",
       "    </tr>\n",
       "    <tr>\n",
       "      <th>3</th>\n",
       "      <td>3</td>\n",
       "      <td>1210000</td>\n",
       "      <td>3102</td>\n",
       "      <td>4</td>\n",
       "      <td>3.0</td>\n",
       "      <td>Waterfront</td>\n",
       "      <td>2005</td>\n",
       "      <td>Excellent</td>\n",
       "    </tr>\n",
       "    <tr>\n",
       "      <th>4</th>\n",
       "      <td>4</td>\n",
       "      <td>462000</td>\n",
       "      <td>1835</td>\n",
       "      <td>2</td>\n",
       "      <td>2.0</td>\n",
       "      <td>Urban</td>\n",
       "      <td>1982</td>\n",
       "      <td>Good</td>\n",
       "    </tr>\n",
       "  </tbody>\n",
       "</table>\n",
       "</div>"
      ],
      "text/plain": [
       "   Unnamed: 0    price  sqft  bedrooms  bathrooms    location  year_built  \\\n",
       "0           0   495000  1527         2        1.5      Suburb        1956   \n",
       "1           1   752000  2526         3        2.5    Downtown        1998   \n",
       "2           2   319000  1622         2        1.5       Rural        1975   \n",
       "3           3  1210000  3102         4        3.0  Waterfront        2005   \n",
       "4           4   462000  1835         2        2.0       Urban        1982   \n",
       "\n",
       "   condition  \n",
       "0       Good  \n",
       "1  Excellent  \n",
       "2       Fair  \n",
       "3  Excellent  \n",
       "4       Good  "
      ]
     },
     "execution_count": 1,
     "metadata": {},
     "output_type": "execute_result"
    }
   ],
   "source": [
    "# 📓 Feature Engineering Notebook for DevOps Learners\n",
    "\n",
    "# ---\n",
    "# 🧪 Imports\n",
    "import pandas as pd\n",
    "import numpy as np\n",
    "from datetime import datetime\n",
    "import seaborn as sns\n",
    "import matplotlib.pyplot as plt\n",
    "\n",
    "# ---\n",
    "# 📥 Load Cleaned Data\n",
    "df = pd.read_csv(\"../data/processed/cleaned_house_data.csv\")\n",
    "df.head()\n"
   ]
  },
  {
   "cell_type": "code",
   "execution_count": 5,
   "id": "9dc7ca88",
   "metadata": {},
   "outputs": [
    {
     "name": "stdout",
     "output_type": "stream",
     "text": [
      "Dataset shape (colums, rows): (84, 8)\n",
      "<class 'pandas.core.frame.DataFrame'>\n",
      "RangeIndex: 84 entries, 0 to 83\n",
      "Data columns (total 8 columns):\n",
      " #   Column      Non-Null Count  Dtype  \n",
      "---  ------      --------------  -----  \n",
      " 0   Unnamed: 0  84 non-null     int64  \n",
      " 1   price       84 non-null     int64  \n",
      " 2   sqft        84 non-null     int64  \n",
      " 3   bedrooms    84 non-null     int64  \n",
      " 4   bathrooms   84 non-null     float64\n",
      " 5   location    84 non-null     object \n",
      " 6   year_built  84 non-null     int64  \n",
      " 7   condition   84 non-null     object \n",
      "dtypes: float64(1), int64(5), object(2)\n",
      "memory usage: 5.4+ KB\n",
      "None\n"
     ]
    }
   ],
   "source": [
    "# Print dataset shape: rows × columns\n",
    "print(\"Dataset shape (colums, rows):\", df.shape)\n",
    "\n",
    "# Print summary of column names, types, null counts, etc.\n",
    "print(df.info())"
   ]
  },
  {
   "cell_type": "code",
   "execution_count": 6,
   "id": "01e714a9",
   "metadata": {},
   "outputs": [
    {
     "data": {
      "application/vnd.microsoft.datawrangler.viewer.v0+json": {
       "columns": [
        {
         "name": "index",
         "rawType": "object",
         "type": "string"
        },
        {
         "name": "Unnamed: 0",
         "rawType": "float64",
         "type": "float"
        },
        {
         "name": "price",
         "rawType": "float64",
         "type": "float"
        },
        {
         "name": "sqft",
         "rawType": "float64",
         "type": "float"
        },
        {
         "name": "bedrooms",
         "rawType": "float64",
         "type": "float"
        },
        {
         "name": "bathrooms",
         "rawType": "float64",
         "type": "float"
        },
        {
         "name": "year_built",
         "rawType": "float64",
         "type": "float"
        }
       ],
       "ref": "0de86e12-c4ec-46de-b4eb-2db1f25096a2",
       "rows": [
        [
         "count",
         "84.0",
         "84.0",
         "84.0",
         "84.0",
         "84.0",
         "84.0"
        ],
        [
         "mean",
         "41.5",
         "628559.5238095238",
         "2191.5",
         "2.857142857142857",
         "2.1904761904761907",
         "1982.047619047619"
        ],
        [
         "std",
         "24.392621835300936",
         "359167.82502711774",
         "650.0171174761848",
         "0.8522522555304848",
         "0.8283557596145014",
         "19.501562966033955"
        ],
        [
         "min",
         "0.0",
         "249000.0",
         "1350.0",
         "2.0",
         "1.0",
         "1947.0"
        ],
        [
         "25%",
         "20.75",
         "374250.0",
         "1695.0",
         "2.0",
         "1.5",
         "1965.0"
        ],
        [
         "50%",
         "41.5",
         "511000.0",
         "1995.0",
         "3.0",
         "2.0",
         "1982.5"
        ],
        [
         "75%",
         "62.25",
         "729250.0",
         "2590.0",
         "3.0",
         "2.5",
         "1995.5"
        ],
        [
         "max",
         "83.0",
         "1680000.0",
         "3850.0",
         "5.0",
         "4.5",
         "2019.0"
        ]
       ],
       "shape": {
        "columns": 6,
        "rows": 8
       }
      },
      "text/html": [
       "<div>\n",
       "<style scoped>\n",
       "    .dataframe tbody tr th:only-of-type {\n",
       "        vertical-align: middle;\n",
       "    }\n",
       "\n",
       "    .dataframe tbody tr th {\n",
       "        vertical-align: top;\n",
       "    }\n",
       "\n",
       "    .dataframe thead th {\n",
       "        text-align: right;\n",
       "    }\n",
       "</style>\n",
       "<table border=\"1\" class=\"dataframe\">\n",
       "  <thead>\n",
       "    <tr style=\"text-align: right;\">\n",
       "      <th></th>\n",
       "      <th>Unnamed: 0</th>\n",
       "      <th>price</th>\n",
       "      <th>sqft</th>\n",
       "      <th>bedrooms</th>\n",
       "      <th>bathrooms</th>\n",
       "      <th>year_built</th>\n",
       "    </tr>\n",
       "  </thead>\n",
       "  <tbody>\n",
       "    <tr>\n",
       "      <th>count</th>\n",
       "      <td>84.000000</td>\n",
       "      <td>8.400000e+01</td>\n",
       "      <td>84.000000</td>\n",
       "      <td>84.000000</td>\n",
       "      <td>84.000000</td>\n",
       "      <td>84.000000</td>\n",
       "    </tr>\n",
       "    <tr>\n",
       "      <th>mean</th>\n",
       "      <td>41.500000</td>\n",
       "      <td>6.285595e+05</td>\n",
       "      <td>2191.500000</td>\n",
       "      <td>2.857143</td>\n",
       "      <td>2.190476</td>\n",
       "      <td>1982.047619</td>\n",
       "    </tr>\n",
       "    <tr>\n",
       "      <th>std</th>\n",
       "      <td>24.392622</td>\n",
       "      <td>3.591678e+05</td>\n",
       "      <td>650.017117</td>\n",
       "      <td>0.852252</td>\n",
       "      <td>0.828356</td>\n",
       "      <td>19.501563</td>\n",
       "    </tr>\n",
       "    <tr>\n",
       "      <th>min</th>\n",
       "      <td>0.000000</td>\n",
       "      <td>2.490000e+05</td>\n",
       "      <td>1350.000000</td>\n",
       "      <td>2.000000</td>\n",
       "      <td>1.000000</td>\n",
       "      <td>1947.000000</td>\n",
       "    </tr>\n",
       "    <tr>\n",
       "      <th>25%</th>\n",
       "      <td>20.750000</td>\n",
       "      <td>3.742500e+05</td>\n",
       "      <td>1695.000000</td>\n",
       "      <td>2.000000</td>\n",
       "      <td>1.500000</td>\n",
       "      <td>1965.000000</td>\n",
       "    </tr>\n",
       "    <tr>\n",
       "      <th>50%</th>\n",
       "      <td>41.500000</td>\n",
       "      <td>5.110000e+05</td>\n",
       "      <td>1995.000000</td>\n",
       "      <td>3.000000</td>\n",
       "      <td>2.000000</td>\n",
       "      <td>1982.500000</td>\n",
       "    </tr>\n",
       "    <tr>\n",
       "      <th>75%</th>\n",
       "      <td>62.250000</td>\n",
       "      <td>7.292500e+05</td>\n",
       "      <td>2590.000000</td>\n",
       "      <td>3.000000</td>\n",
       "      <td>2.500000</td>\n",
       "      <td>1995.500000</td>\n",
       "    </tr>\n",
       "    <tr>\n",
       "      <th>max</th>\n",
       "      <td>83.000000</td>\n",
       "      <td>1.680000e+06</td>\n",
       "      <td>3850.000000</td>\n",
       "      <td>5.000000</td>\n",
       "      <td>4.500000</td>\n",
       "      <td>2019.000000</td>\n",
       "    </tr>\n",
       "  </tbody>\n",
       "</table>\n",
       "</div>"
      ],
      "text/plain": [
       "       Unnamed: 0         price         sqft   bedrooms  bathrooms  \\\n",
       "count   84.000000  8.400000e+01    84.000000  84.000000  84.000000   \n",
       "mean    41.500000  6.285595e+05  2191.500000   2.857143   2.190476   \n",
       "std     24.392622  3.591678e+05   650.017117   0.852252   0.828356   \n",
       "min      0.000000  2.490000e+05  1350.000000   2.000000   1.000000   \n",
       "25%     20.750000  3.742500e+05  1695.000000   2.000000   1.500000   \n",
       "50%     41.500000  5.110000e+05  1995.000000   3.000000   2.000000   \n",
       "75%     62.250000  7.292500e+05  2590.000000   3.000000   2.500000   \n",
       "max     83.000000  1.680000e+06  3850.000000   5.000000   4.500000   \n",
       "\n",
       "        year_built  \n",
       "count    84.000000  \n",
       "mean   1982.047619  \n",
       "std      19.501563  \n",
       "min    1947.000000  \n",
       "25%    1965.000000  \n",
       "50%    1982.500000  \n",
       "75%    1995.500000  \n",
       "max    2019.000000  "
      ]
     },
     "execution_count": 6,
     "metadata": {},
     "output_type": "execute_result"
    }
   ],
   "source": [
    "df.describe()"
   ]
  },
  {
   "cell_type": "code",
   "execution_count": 7,
   "id": "25ad0439",
   "metadata": {},
   "outputs": [
    {
     "data": {
      "application/vnd.microsoft.datawrangler.viewer.v0+json": {
       "columns": [
        {
         "name": "index",
         "rawType": "object",
         "type": "string"
        },
        {
         "name": "house_age",
         "rawType": "float64",
         "type": "float"
        },
        {
         "name": "price_per_sqft",
         "rawType": "float64",
         "type": "float"
        },
        {
         "name": "bed_bath_ratio",
         "rawType": "float64",
         "type": "float"
        }
       ],
       "ref": "8a02ce6d-ad04-476e-a47a-57448ffaec15",
       "rows": [
        [
         "count",
         "84.0",
         "84.0",
         "84.0"
        ],
        [
         "mean",
         "42.95238095238095",
         "268.09038661379935",
         "1.3625188964474677"
        ],
        [
         "std",
         "19.501562966033955",
         "67.74297002522053",
         "0.26223008565787836"
        ],
        [
         "min",
         "6.0",
         "179.76190476190476",
         "1.0"
        ],
        [
         "25%",
         "29.5",
         "229.43650692406914",
         "1.2"
        ],
        [
         "50%",
         "42.5",
         "254.3269230769231",
         "1.3333333333333333"
        ],
        [
         "75%",
         "60.0",
         "279.7829036635007",
         "1.5"
        ],
        [
         "max",
         "78.0",
         "436.3636363636364",
         "2.0"
        ]
       ],
       "shape": {
        "columns": 3,
        "rows": 8
       }
      },
      "text/html": [
       "<div>\n",
       "<style scoped>\n",
       "    .dataframe tbody tr th:only-of-type {\n",
       "        vertical-align: middle;\n",
       "    }\n",
       "\n",
       "    .dataframe tbody tr th {\n",
       "        vertical-align: top;\n",
       "    }\n",
       "\n",
       "    .dataframe thead th {\n",
       "        text-align: right;\n",
       "    }\n",
       "</style>\n",
       "<table border=\"1\" class=\"dataframe\">\n",
       "  <thead>\n",
       "    <tr style=\"text-align: right;\">\n",
       "      <th></th>\n",
       "      <th>house_age</th>\n",
       "      <th>price_per_sqft</th>\n",
       "      <th>bed_bath_ratio</th>\n",
       "    </tr>\n",
       "  </thead>\n",
       "  <tbody>\n",
       "    <tr>\n",
       "      <th>count</th>\n",
       "      <td>84.000000</td>\n",
       "      <td>84.000000</td>\n",
       "      <td>84.000000</td>\n",
       "    </tr>\n",
       "    <tr>\n",
       "      <th>mean</th>\n",
       "      <td>42.952381</td>\n",
       "      <td>268.090387</td>\n",
       "      <td>1.362519</td>\n",
       "    </tr>\n",
       "    <tr>\n",
       "      <th>std</th>\n",
       "      <td>19.501563</td>\n",
       "      <td>67.742970</td>\n",
       "      <td>0.262230</td>\n",
       "    </tr>\n",
       "    <tr>\n",
       "      <th>min</th>\n",
       "      <td>6.000000</td>\n",
       "      <td>179.761905</td>\n",
       "      <td>1.000000</td>\n",
       "    </tr>\n",
       "    <tr>\n",
       "      <th>25%</th>\n",
       "      <td>29.500000</td>\n",
       "      <td>229.436507</td>\n",
       "      <td>1.200000</td>\n",
       "    </tr>\n",
       "    <tr>\n",
       "      <th>50%</th>\n",
       "      <td>42.500000</td>\n",
       "      <td>254.326923</td>\n",
       "      <td>1.333333</td>\n",
       "    </tr>\n",
       "    <tr>\n",
       "      <th>75%</th>\n",
       "      <td>60.000000</td>\n",
       "      <td>279.782904</td>\n",
       "      <td>1.500000</td>\n",
       "    </tr>\n",
       "    <tr>\n",
       "      <th>max</th>\n",
       "      <td>78.000000</td>\n",
       "      <td>436.363636</td>\n",
       "      <td>2.000000</td>\n",
       "    </tr>\n",
       "  </tbody>\n",
       "</table>\n",
       "</div>"
      ],
      "text/plain": [
       "       house_age  price_per_sqft  bed_bath_ratio\n",
       "count  84.000000       84.000000       84.000000\n",
       "mean   42.952381      268.090387        1.362519\n",
       "std    19.501563       67.742970        0.262230\n",
       "min     6.000000      179.761905        1.000000\n",
       "25%    29.500000      229.436507        1.200000\n",
       "50%    42.500000      254.326923        1.333333\n",
       "75%    60.000000      279.782904        1.500000\n",
       "max    78.000000      436.363636        2.000000"
      ]
     },
     "execution_count": 7,
     "metadata": {},
     "output_type": "execute_result"
    }
   ],
   "source": [
    "# ---\n",
    "# 🎯 Feature Engineering (Human-Readable)\n",
    "\n",
    "# Feature 1: Age of the house\n",
    "df['house_age'] = datetime.now().year - df['year_built']\n",
    "\n",
    "# Feature 2: Price per square foot\n",
    "df['price_per_sqft'] = df['price'] / df['sqft']\n",
    "\n",
    "# Feature 3: Ratio of bedrooms to bathrooms\n",
    "df['bed_bath_ratio'] = df['bedrooms'] / df['bathrooms']\n",
    "\n",
    "# Handle division by zero and infinite values\n",
    "df['bed_bath_ratio'] = df['bed_bath_ratio'].replace([np.inf, -np.inf], np.nan).fillna(0)\n",
    "\n",
    "# 📊 Quick Look at Engineered Data\n",
    "df[['house_age', 'price_per_sqft', 'bed_bath_ratio']].describe()"
   ]
  },
  {
   "cell_type": "code",
   "execution_count": 8,
   "id": "c30e2bc4",
   "metadata": {},
   "outputs": [
    {
     "data": {
      "image/png": "[encoded data removed]",
      "text/plain": [
       "<Figure size 1800x500 with 3 Axes>"
      ]
     },
     "metadata": {},
     "output_type": "display_data"
    }
   ],
   "source": [
    "fig, axs = plt.subplots(1, 3, figsize=(18, 5))\n",
    "sns.histplot(df['house_age'], kde= True, ax= axs[0])\n",
    "axs[0].set_title('House Age Distribution')\n",
    "\n",
    "sns.histplot(df['price_per_sqft'], kde= True, ax= axs[1])\n",
    "axs[1].set_title('Price per Square Foot Distribution')\n",
    "\n",
    "sns.histplot(df['bed_bath_ratio'], kde= True, ax= axs[2])\n",
    "axs[2].set_title('Bedroom to Bathroom Ratio Distribution')\n",
    "\n",
    "plt.tight_layout()\n",
    "plt.show()"
   ]
  },
  {
   "cell_type": "code",
   "execution_count": 9,
   "id": "cca55a41",
   "metadata": {},
   "outputs": [
    {
     "name": "stdout",
     "output_type": "stream",
     "text": [
      "✅ Saved human-readable engineered features to ../data/processed/data_scientists_features.csv\n"
     ]
    }
   ],
   "source": [
    "selected_columns = [\n",
    "    'price', 'sqft', 'bedrooms', 'bathrooms', 'location', 'year_built', 'condition',\n",
    "    'house_age', 'price_per_sqft', 'bed_bath_ratio'\n",
    "]\n",
    "\n",
    "df[selected_columns].to_csv(\"../data/processed/data_scientists_features.csv\", index=False)\n",
    "print(\"✅ Saved human-readable engineered features to ../data/processed/data_scientists_features.csv\")"
   ]
  },
  {
   "cell_type": "code",
   "execution_count": null,
   "id": "5c635e19",
   "metadata": {},
   "outputs": [],
   "source": []
  }
 ],
 "metadata": {
  "kernelspec": {
   "display_name": "Python 3",
   "language": "python",
   "name": "python3"
  },
  "language_info": {
   "codemirror_mode": {
    "name": "ipython",
    "version": 3
   },
   "file_extension": ".py",
   "mimetype": "text/x-python",
   "name": "python",
   "nbconvert_exporter": "python",
   "pygments_lexer": "ipython3",
   "version": "3.11.13"
  }
 },
 "nbformat": 4,
 "nbformat_minor": 5
}
